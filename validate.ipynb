{\rtf1\ansi\ansicpg1252\cocoartf2822
\cocoatextscaling0\cocoaplatform0{\fonttbl\f0\fswiss\fcharset0 Helvetica;}
{\colortbl;\red255\green255\blue255;}
{\*\expandedcolortbl;;}
\margl1440\margr1440\vieww11520\viewh8400\viewkind0
\pard\tx720\tx1440\tx2160\tx2880\tx3600\tx4320\tx5040\tx5760\tx6480\tx7200\tx7920\tx8640\pardirnatural\partightenfactor0

\f0\fs24 \cf0 !pip -q install lxml\
from lxml import etree\
\
# Load DTD\
with open("domain.dtd","rb") as f:\
    dtd = etree.DTD(f)\
\
# Validate sample.xml\
ok = etree.parse("sample.xml")\
print("sample.xml \uc0\u8594 ", "VALID \u9989 " if dtd.validate(ok) else "NOT valid \u10060 ")\
\
# Validate broken.xml\
bad = etree.parse("broken.xml")\
print("broken.xml \uc0\u8594 ", "VALID \u9989 " if dtd.validate(bad) else "NOT valid \u10060 ")\
\
# Show errors\
print("\\nErrors (broken.xml):")\
for e in dtd.error_log:\
    print("\'95", e)\
}